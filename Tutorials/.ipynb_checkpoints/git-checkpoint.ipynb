{
 "cells": [
  {
   "cell_type": "markdown",
   "metadata": {},
   "source": [
    "# Configuration\n",
    "\n"
   ]
  },
  {
   "cell_type": "markdown",
   "metadata": {},
   "source": [
    "# Some Best Practices\n",
    "\n",
    "When refactoring change the file name in a single commit and make the changes to\n",
    "the contents of the file in a seperate commit."
   ]
  },
  {
   "cell_type": "markdown",
   "metadata": {},
   "source": [
    "# Security\n",
    "\n",
    "Create key pair using `ssh-keygen`."
   ]
  },
  {
   "cell_type": "markdown",
   "metadata": {},
   "source": [
    "# Paging and Not Paging\n",
    "\n",
    "Git commands that have output that could be multiple screens by default use a pager to \n",
    "view the output.  \n",
    "\n",
    "- What is the pager?\n",
    "\n",
    "The option to not use a pager is `--no-pager` which must be given directly after the git\n",
    "command:\n",
    "\n",
    "```bash\n",
    "git --no-pager config --list\n",
    "```\n",
    "\n",
    "If it is given after the operation git will consider it an option to the operation, for example:\n",
    "\n",
    "``` bash\n",
    "git config --list --no-pager\n",
    "```\n",
    "\n",
    "Will result in an error from git stating that `--no-pager` is not a valid option for the\n",
    "config command."
   ]
  },
  {
   "cell_type": "markdown",
   "metadata": {},
   "source": [
    "# Useful commands\n",
    "\n",
    "```shell\n",
    "git remote -v\n",
    "\n",
    "git reset --soft HEAD^   # move last commit back to index\n",
    "git reset HEAD^          # undo last commit and add leaving files as untracked\n",
    "\n",
    "# Looking at contents of commits\n",
    "\n",
    "git show                 # shows details of last commit\n",
    "git show --name-only     # just file names in last commit\n",
    "git show --pretty=\"\" --name-only  # no formatting only file names\n",
    "git log --pretty=oneline\n",
    "git log --pretty=oneline ba2a08\n",
    "git log HEAD^^^..HEAD\n",
    "git log HEAD~3..HEAD \n",
    "\n",
    "git diff master testBranch --word-diff\n",
    "```"
   ]
  },
  {
   "cell_type": "markdown",
   "metadata": {},
   "source": [
    "# Configuration\n",
    "# Three stages - how files move between them\n",
    "# Branches\n",
    "# Remotes\n",
    "# Tagging\n",
    "# Merging - strategies\n",
    "# Rebasing\n",
    "# Options PULL, PUSH, FETCH\n",
    "# RERERE\n",
    "# Refspec"
   ]
  },
  {
   "cell_type": "code",
   "execution_count": null,
   "metadata": {},
   "outputs": [],
   "source": []
  }
 ],
 "metadata": {
  "kernelspec": {
   "display_name": "Python 3",
   "language": "python",
   "name": "python3"
  },
  "language_info": {
   "codemirror_mode": {
    "name": "ipython",
    "version": 3
   },
   "file_extension": ".py",
   "mimetype": "text/x-python",
   "name": "python",
   "nbconvert_exporter": "python",
   "pygments_lexer": "ipython3",
   "version": "3.6.8"
  }
 },
 "nbformat": 4,
 "nbformat_minor": 2
}

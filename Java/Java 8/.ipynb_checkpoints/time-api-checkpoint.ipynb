{
 "cells": [
  {
   "cell_type": "markdown",
   "metadata": {},
   "source": [
    "# Time API"
   ]
  },
  {
   "cell_type": "markdown",
   "metadata": {},
   "source": [
    "Java 8 introduced new Date and Time APIs to succeed the old Date and Calendar APIs.  The previous APIs were sometimes difficult to understand, weren't thread safe and didn't handle timezones easily."
   ]
  },
  {
   "cell_type": "markdown",
   "metadata": {},
   "source": [
    "## LocalDate"
   ]
  },
  {
   "cell_type": "code",
   "execution_count": 74,
   "metadata": {},
   "outputs": [
    {
     "name": "stdout",
     "output_type": "stream",
     "text": [
      "Date, default format is YYYY-MM-DD: 2019-05-05\n",
      "Date, default format is YYYY-MM-DD: 2019-05-05\n"
     ]
    },
    {
     "data": {
      "text/plain": [
       "java.io.PrintStream@32703dc"
      ]
     },
     "execution_count": 74,
     "metadata": {},
     "output_type": "execute_result"
    }
   ],
   "source": [
    "import static java.lang.System.out;\n",
    "import java.time.LocalDate;\n",
    "\n",
    "// Calling out.printf directly at the end of a cell leaves a spurious object reference in the output.\n",
    "void log(String s, Object... others) {\n",
    "    out.printf(s, others);\n",
    "}\n",
    "\n",
    "LocalDate today = LocalDate.now();\n",
    "log(\"Date, default format is YYYY-MM-DD: %s\\n\", today);\n",
    "out.printf(\"Date, default format is YYYY-MM-DD: %s\\n\", today);"
   ]
  },
  {
   "cell_type": "markdown",
   "metadata": {},
   "source": [
    "### Creation"
   ]
  },
  {
   "cell_type": "markdown",
   "metadata": {},
   "source": [
    "There are several ways to create `LocalDate`.  You can use the `of` method:"
   ]
  },
  {
   "cell_type": "code",
   "execution_count": 65,
   "metadata": {},
   "outputs": [
    {
     "name": "stdout",
     "output_type": "stream",
     "text": [
      "Date from variables: 2018-02-28\n",
      "Date parsed from string: 2018-02-28\n"
     ]
    }
   ],
   "source": [
    "import java.time.DayOfWeek;\n",
    "\n",
    "int year = 2018;\n",
    "int month = 2;\n",
    "int day = 28;\n",
    "\n",
    "LocalDate localDate = LocalDate.of(year, month, day);\n",
    "log(\"Date from variables: %s\\n\", localDate);\n",
    "localDate = LocalDate.parse(\"2018-02-28\");\n",
    "log(\"Date parsed from string: %s\\n\", localDate);"
   ]
  },
  {
   "cell_type": "markdown",
   "metadata": {},
   "source": [
    "### Helper Methods"
   ]
  },
  {
   "cell_type": "markdown",
   "metadata": {},
   "source": [
    "There are some useful helper methods.  Add a day to the date:"
   ]
  },
  {
   "cell_type": "code",
   "execution_count": 66,
   "metadata": {},
   "outputs": [
    {
     "name": "stdout",
     "output_type": "stream",
     "text": [
      "Tomorrow: 2019-05-06\n"
     ]
    }
   ],
   "source": [
    "import java.time.temporal.ChronoUnit;\n",
    "\n",
    "LocalDate tomorrow = today.plusDays(1);\n",
    "log(\"Tomorrow: %s\\n\", tomorrow);"
   ]
  },
  {
   "cell_type": "code",
   "execution_count": 67,
   "metadata": {},
   "outputs": [
    {
     "name": "stdout",
     "output_type": "stream",
     "text": [
      "Next month: 2019-06-05\n"
     ]
    }
   ],
   "source": [
    "LocalDate nextMonth = today.plus(1, ChronoUnit.MONTHS);\n",
    "log(\"Next month: %s\\n\", nextMonth);"
   ]
  },
  {
   "cell_type": "code",
   "execution_count": 68,
   "metadata": {},
   "outputs": [
    {
     "name": "stdout",
     "output_type": "stream",
     "text": [
      "Today is: SUNDAY\n"
     ]
    }
   ],
   "source": [
    "DayOfWeek nameOfToday = today.getDayOfWeek();\n",
    "log(\"Today is: %s\\n\", nameOfToday);"
   ]
  },
  {
   "cell_type": "code",
   "execution_count": 69,
   "metadata": {},
   "outputs": [
    {
     "name": "stdout",
     "output_type": "stream",
     "text": [
      "Day of month is: 5\n"
     ]
    }
   ],
   "source": [
    "int dayOfMonth = today.getDayOfMonth();\n",
    "log(\"Day of month is: %s\\n\", dayOfMonth);"
   ]
  },
  {
   "cell_type": "code",
   "execution_count": 70,
   "metadata": {},
   "outputs": [
    {
     "name": "stdout",
     "output_type": "stream",
     "text": [
      "Its not a leap year\n"
     ]
    }
   ],
   "source": [
    "boolean isLeapYear = today.isLeapYear();\n",
    "log(isLeapYear ? \"Its a leap year\" :  \"Its not a leap year\");"
   ]
  },
  {
   "cell_type": "markdown",
   "metadata": {},
   "source": [
    "## Comparing Dates"
   ]
  },
  {
   "cell_type": "code",
   "execution_count": 71,
   "metadata": {},
   "outputs": [
    {
     "name": "stdout",
     "output_type": "stream",
     "text": [
      "Today is before tomorrow\n"
     ]
    }
   ],
   "source": [
    "log(tomorrow.isBefore(today) ? \"Tomorrow is before today\": \"Today is before tomorrow\");"
   ]
  },
  {
   "cell_type": "code",
   "execution_count": 72,
   "metadata": {},
   "outputs": [
    {
     "name": "stdout",
     "output_type": "stream",
     "text": [
      "Tomorrow is after today\n"
     ]
    }
   ],
   "source": [
    "log(tomorrow.isAfter(today) ? \"Tomorrow is after today\": \"Today is after tomorrow\");"
   ]
  },
  {
   "cell_type": "code",
   "execution_count": 73,
   "metadata": {},
   "outputs": [
    {
     "name": "stdout",
     "output_type": "stream",
     "text": [
      "First day of month is: 2019-05-01\n"
     ]
    }
   ],
   "source": [
    "import java.time.temporal.TemporalAdjusters;\n",
    "\n",
    "log(\"First day of month is: %s\\n\", today.with(TemporalAdjusters.firstDayOfMonth()));"
   ]
  }
 ],
 "metadata": {
  "kernelspec": {
   "display_name": "Java",
   "language": "java",
   "name": "java"
  },
  "language_info": {
   "codemirror_mode": "java",
   "file_extension": ".java",
   "mimetype": "text/x-java-source",
   "name": "Java",
   "pygments_lexer": "java",
   "version": "11.0.3+7-LTS"
  }
 },
 "nbformat": 4,
 "nbformat_minor": 2
}

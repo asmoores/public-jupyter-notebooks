{
 "cells": [
  {
   "cell_type": "markdown",
   "metadata": {},
   "source": [
    "# Log files"
   ]
  },
  {
   "cell_type": "markdown",
   "metadata": {},
   "source": [
    "Darwin doesn't include `logrotate` it has `newsyslog`.  Like all the services on Darwin they are run by `launchd`.  `newsyslog` is configured in `/etc/newsyslog.d/`."
   ]
  },
  {
   "cell_type": "markdown",
   "metadata": {},
   "source": [
    "```bash\n",
    "# logfilename                   [owner:group]   mode    count   size    when    flags [/pid_file] [sig_num]\n",
    "/Users/andrew/logs/*.log                        644     5       1024    *       G\n",
    "```"
   ]
  },
  {
   "cell_type": "markdown",
   "metadata": {},
   "source": [
    "See the man pages `man newsyslog` and `man newslog.conf` for details."
   ]
  },
  {
   "cell_type": "markdown",
   "metadata": {},
   "source": [
    "The `newsyslog` job is defined as a system launchd in `/System/Library/LaunchDaemons/com.apple.newsyslog.plist`"
   ]
  }
 ],
 "metadata": {
  "kernelspec": {
   "display_name": "Python 3",
   "language": "python",
   "name": "python3"
  },
  "language_info": {
   "codemirror_mode": {
    "name": "ipython",
    "version": 3
   },
   "file_extension": ".py",
   "mimetype": "text/x-python",
   "name": "python",
   "nbconvert_exporter": "python",
   "pygments_lexer": "ipython3",
   "version": "3.7.1"
  }
 },
 "nbformat": 4,
 "nbformat_minor": 2
}
